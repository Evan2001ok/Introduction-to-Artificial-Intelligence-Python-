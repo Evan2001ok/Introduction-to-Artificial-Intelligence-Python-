{
 "cells": [
  {
   "cell_type": "code",
   "execution_count": 53,
   "id": "3e167df2-9553-469d-9aff-900fe5c857ce",
   "metadata": {},
   "outputs": [
    {
     "name": "stdout",
     "output_type": "stream",
     "text": [
      "[[ 1 12  3]\n",
      " [ 4 16  6]\n",
      " [ 7 11  9]\n",
      " [ 1  2  0]]\n"
     ]
    }
   ],
   "source": [
    "import numpy as np\n",
    "\n",
    "x = np.arange(1,10).reshape(3,3)\n",
    "x[0,1] = 12\n",
    "x[1,1] = 16\n",
    "x[2,1] = 11\n",
    "x = np.append(x,[[1,2,0]],axis=0)\n",
    "\n",
    "print(x)\n",
    "#print(x[0,1])\n",
    "#print(x[1,1])\n",
    "#print(x[2,1])\n",
    "#y = np.arange(1,10).reshape(3,3)\n",
    "\n",
    "#y = np.delete(y, [0,4,6,7,8])\n",
    "#print(y.reshape(2,2))\n"
   ]
  },
  {
   "cell_type": "code",
   "execution_count": null,
   "id": "a0de6e77-1bf1-4ab1-8260-2da286b58a08",
   "metadata": {},
   "outputs": [],
   "source": []
  }
 ],
 "metadata": {
  "kernelspec": {
   "display_name": "Python 3 (ipykernel)",
   "language": "python",
   "name": "python3"
  },
  "language_info": {
   "codemirror_mode": {
    "name": "ipython",
    "version": 3
   },
   "file_extension": ".py",
   "mimetype": "text/x-python",
   "name": "python",
   "nbconvert_exporter": "python",
   "pygments_lexer": "ipython3",
   "version": "3.11.7"
  }
 },
 "nbformat": 4,
 "nbformat_minor": 5
}
