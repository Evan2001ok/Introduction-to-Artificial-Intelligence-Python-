{
 "cells": [
  {
   "cell_type": "code",
   "execution_count": 27,
   "id": "9a6c024e-8f9a-46d1-9525-21a491ccb01e",
   "metadata": {},
   "outputs": [
    {
     "name": "stdout",
     "output_type": "stream",
     "text": [
      "[[1. 0. 0. 0. 0. 0.]\n",
      " [0. 1. 0. 0. 0. 0.]\n",
      " [0. 0. 1. 0. 0. 0.]\n",
      " [0. 0. 0. 1. 0. 0.]\n",
      " [0. 0. 0. 0. 1. 0.]\n",
      " [0. 0. 0. 0. 0. 1.]]\n",
      "The elements in y are of dtype: float64\n",
      "The elements in y are of type: <class 'numpy.ndarray'>\n",
      "The elements in y are of shape: (6, 6)\n",
      "[[1. 1. 1. 1.]\n",
      " [1. 1. 1. 1.]\n",
      " [1. 1. 1. 1.]\n",
      " [1. 1. 1. 1.]\n",
      " [1. 1. 1. 1.]]\n",
      "\n",
      "[[5 5 5 5 5]\n",
      " [5 5 5 5 5]\n",
      " [5 5 5 5 5]\n",
      " [5 5 5 5 5]]\n",
      "\n"
     ]
    }
   ],
   "source": [
    "import numpy as np# We create a rank 1 ndarray from a Python list that contains integers and strings\n",
    "\n",
    "\n",
    "y = np.eye(6)\n",
    "print(y)\n",
    "\n",
    "\n",
    "print('The elements in y are of dtype:', y.dtype)\n",
    "print('The elements in y are of type:', type(y))\n",
    "print('The elements in y are of shape:', y.shape)\n",
    "\n",
    "e = np.ones((5,4))\n",
    "print(f\"{e}\\n\")\n",
    "\n",
    "x = np.full((4,5), 5)\n",
    "print(f\"{x}\\n\")"
   ]
  },
  {
   "cell_type": "code",
   "execution_count": null,
   "id": "e53d759d-2fbe-4c0c-92ed-c79160ecfe2f",
   "metadata": {},
   "outputs": [],
   "source": []
  }
 ],
 "metadata": {
  "kernelspec": {
   "display_name": "Python 3 (ipykernel)",
   "language": "python",
   "name": "python3"
  },
  "language_info": {
   "codemirror_mode": {
    "name": "ipython",
    "version": 3
   },
   "file_extension": ".py",
   "mimetype": "text/x-python",
   "name": "python",
   "nbconvert_exporter": "python",
   "pygments_lexer": "ipython3",
   "version": "3.11.7"
  }
 },
 "nbformat": 4,
 "nbformat_minor": 5
}
