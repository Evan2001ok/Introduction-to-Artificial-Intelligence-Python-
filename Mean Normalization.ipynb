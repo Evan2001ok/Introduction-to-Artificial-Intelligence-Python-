{
 "cells": [
  {
   "cell_type": "code",
   "execution_count": 1,
   "id": "6f02678b-8e64-482f-a768-b7df064b16ec",
   "metadata": {},
   "outputs": [
    {
     "name": "stdout",
     "output_type": "stream",
     "text": [
      "(1000, 20)\n",
      "(20,)\n",
      "(20,)\n",
      "(1000, 20)\n",
      "-2.5579538487363606e-17\n",
      "-1.7266255502968377\n",
      "1.7412099344948246\n",
      "(600, 20)\n",
      "(200, 20)\n",
      "(200, 20)\n"
     ]
    }
   ],
   "source": [
    "# import NumPy into Python\n",
    "import numpy as np\n",
    "\n",
    "# Create a 1000 x 20 ndarray with random integers in the half-open interval [0, 5001).\n",
    "X = np.random.randint(0,5001,size=(1000,20))\n",
    "\n",
    "# print the shape of X\n",
    "print(X.shape)\n",
    "\n",
    "# Average of the values in each column of X\n",
    "ave_cols = np.mean(X, axis=0)\n",
    "\n",
    "# Standard Deviation of the values in each column of X\n",
    "std_cols = np.std(X, axis=0)\n",
    "\n",
    "# Print the shape of ave_cols\n",
    "print(ave_cols.shape)\n",
    "\n",
    "# Print the shape of std_cols\n",
    "print(std_cols.shape)\n",
    "\n",
    "# Mean normalize X\n",
    "X_norm = (X-ave_cols)/std_cols\n",
    "print(X_norm.shape)\n",
    "\n",
    "# Print the average of all the values of X_norm\n",
    "print(X_norm.mean())\n",
    "\n",
    "# Print the average of the minimum value in each column of X_norm\n",
    "print(X_norm.min(axis=0).mean())\n",
    "\n",
    "# Print the average of the maximum value in each column of X_norm\n",
    "print(X_norm.max(axis=0).mean())\n",
    "\n",
    "# Create a rank 1 ndarray that contains a random permutation of the row indices of `X_norm`\n",
    "row_indices = np.random.permutation(X.shape[0])\n",
    "\n",
    "# Make any necessary calculations\n",
    "num_rows = X_norm.shape[0]\n",
    "train_size = int(num_rows * 0.6)\n",
    "crossVal_size = int(num_rows * 0.2)\n",
    "test_size = num_rows - train_size - crossVal_size\n",
    "\n",
    "# Create a Training Set\n",
    "X_train = X_norm[row_indices[:train_size]]\n",
    "\n",
    "# Create a Cross Validation Set\n",
    "X_crossVal = X_norm[row_indices[train_size:train_size + crossVal_size]]\n",
    "\n",
    "# Create a Test Set\n",
    "X_test = X_norm[row_indices[train_size + crossVal_size:]]\n",
    "\n",
    "# Print the shape of X_train\n",
    "print(X_train.shape)\n",
    "\n",
    "# Print the shape of X_crossVal\n",
    "print(X_crossVal.shape)\n",
    "\n",
    "# Print the shape of X_test\n",
    "print(X_test.shape)"
   ]
  },
  {
   "cell_type": "code",
   "execution_count": null,
   "id": "0906f80b-3a5e-481c-a0de-f063abc0f632",
   "metadata": {},
   "outputs": [],
   "source": []
  }
 ],
 "metadata": {
  "kernelspec": {
   "display_name": "Python 3 (ipykernel)",
   "language": "python",
   "name": "python3"
  },
  "language_info": {
   "codemirror_mode": {
    "name": "ipython",
    "version": 3
   },
   "file_extension": ".py",
   "mimetype": "text/x-python",
   "name": "python",
   "nbconvert_exporter": "python",
   "pygments_lexer": "ipython3",
   "version": "3.12.4"
  }
 },
 "nbformat": 4,
 "nbformat_minor": 5
}
